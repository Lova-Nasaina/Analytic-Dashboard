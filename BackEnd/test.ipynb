{
 "cells": [
  {
   "cell_type": "code",
   "execution_count": 1,
   "metadata": {},
   "outputs": [],
   "source": [
    "import pandas as pd \n",
    "import numpy as np \n",
    "import matplotlib.pyplot as plt \n",
    "from sqlalchemy import create_engine"
   ]
  },
  {
   "cell_type": "code",
   "execution_count": 2,
   "metadata": {},
   "outputs": [],
   "source": [
    "engine = create_engine(\"mysql+pymysql://root:@localhost:3306/unicef_db\", echo=True)"
   ]
  },
  {
   "cell_type": "code",
   "execution_count": 15,
   "metadata": {},
   "outputs": [
    {
     "name": "stdout",
     "output_type": "stream",
     "text": [
      "2025-03-11 13:37:19,275 INFO sqlalchemy.engine.Engine BEGIN (implicit)\n",
      "2025-03-11 13:37:19,279 INFO sqlalchemy.engine.Engine DESCRIBE `unicef_db`.`region`\n",
      "2025-03-11 13:37:19,281 INFO sqlalchemy.engine.Engine [raw sql] {}\n",
      "2025-03-11 13:37:19,309 INFO sqlalchemy.engine.Engine DESCRIBE `unicef_db`.`region`\n",
      "2025-03-11 13:37:19,311 INFO sqlalchemy.engine.Engine [raw sql] {}\n",
      "2025-03-11 13:37:19,326 INFO sqlalchemy.engine.Engine SHOW FULL TABLES FROM `unicef_db`\n",
      "2025-03-11 13:37:19,328 INFO sqlalchemy.engine.Engine [raw sql] {}\n",
      "2025-03-11 13:37:19,332 INFO sqlalchemy.engine.Engine SHOW FULL TABLES FROM `unicef_db`\n",
      "2025-03-11 13:37:19,334 INFO sqlalchemy.engine.Engine [raw sql] {}\n",
      "2025-03-11 13:37:19,339 INFO sqlalchemy.engine.Engine SHOW CREATE TABLE `region`\n",
      "2025-03-11 13:37:19,340 INFO sqlalchemy.engine.Engine [raw sql] {}\n",
      "2025-03-11 13:37:19,346 INFO sqlalchemy.engine.Engine \n",
      "DROP TABLE region\n",
      "2025-03-11 13:37:19,348 INFO sqlalchemy.engine.Engine [no key 0.00150s] {}\n",
      "2025-03-11 13:37:19,580 INFO sqlalchemy.engine.Engine \n",
      "CREATE TABLE region (\n",
      "\t`CODE_REGION` BIGINT, \n",
      "\t`LIBELLE_REGION` TEXT\n",
      ")\n",
      "\n",
      "\n",
      "2025-03-11 13:37:19,583 INFO sqlalchemy.engine.Engine [no key 0.00284s] {}\n",
      "2025-03-11 13:37:19,957 INFO sqlalchemy.engine.Engine INSERT INTO region (`CODE_REGION`, `LIBELLE_REGION`) VALUES (%(CODE_REGION)s, %(LIBELLE_REGION)s)\n",
      "2025-03-11 13:37:19,958 INFO sqlalchemy.engine.Engine [generated in 0.00137s] [{'CODE_REGION': 52, 'LIBELLE_REGION': 'ANDROY'}, {'CODE_REGION': 53, 'LIBELLE_REGION': 'ANOSY'}, {'CODE_REGION': 51, 'LIBELLE_REGION': 'ATSIMO ANDREFANA'}, {'CODE_REGION': 25, 'LIBELLE_REGION': 'ATSIMO ATSINANANA'}, {'CODE_REGION': 26, 'LIBELLE_REGION': 'VATOVAVY '}, {'CODE_REGION': 23, 'LIBELLE_REGION': 'FITOVINANY'}]\n",
      "2025-03-11 13:37:19,995 INFO sqlalchemy.engine.Engine COMMIT\n",
      "2025-03-11 13:37:20,067 INFO sqlalchemy.engine.Engine BEGIN (implicit)\n",
      "2025-03-11 13:37:20,072 INFO sqlalchemy.engine.Engine DESCRIBE `unicef_db`.`maladie`\n",
      "2025-03-11 13:37:20,073 INFO sqlalchemy.engine.Engine [raw sql] {}\n",
      "2025-03-11 13:37:20,116 INFO sqlalchemy.engine.Engine INSERT INTO maladie (`CODE_DISTRICT`, district, `CODE_REGION`, `Mois`, `Année`, `IRA`, `Diarrhée`, `Palu`) VALUES (%(CODE_DISTRICT)s, %(district)s, %(CODE_REGION)s, %(Mois)s, %(Année)s, %(IRA)s, %(Diarrhée)s, %(Palu)s)\n",
      "2025-03-11 13:37:20,118 INFO sqlalchemy.engine.Engine [generated in 0.01397s] [{'CODE_DISTRICT': 533, 'district': 'Amboasary Atsimo', 'CODE_REGION': 53, 'Mois': 1, 'Année': 2021, 'IRA': 333.0, 'Diarrhée': 1363.0, 'Palu': 3262.0}, {'CODE_DISTRICT': 533, 'district': 'Amboasary Atsimo', 'CODE_REGION': 53, 'Mois': 2, 'Année': 2021, 'IRA': 153.0, 'Diarrhée': 1046.0, 'Palu': 2487.0}, {'CODE_DISTRICT': 533, 'district': 'Amboasary Atsimo', 'CODE_REGION': 53, 'Mois': 3, 'Année': 2021, 'IRA': 343.0, 'Diarrhée': 1082.0, 'Palu': 4324.0}, {'CODE_DISTRICT': 533, 'district': 'Amboasary Atsimo', 'CODE_REGION': 53, 'Mois': 4, 'Année': 2021, 'IRA': 156.0, 'Diarrhée': 788.0, 'Palu': 4218.0}, {'CODE_DISTRICT': 533, 'district': 'Amboasary Atsimo', 'CODE_REGION': 53, 'Mois': 5, 'Année': 2021, 'IRA': 160.0, 'Diarrhée': 547.0, 'Palu': 6255.0}, {'CODE_DISTRICT': 533, 'district': 'Amboasary Atsimo', 'CODE_REGION': 53, 'Mois': 6, 'Année': 2021, 'IRA': 102.0, 'Diarrhée': 408.0, 'Palu': 4767.0}, {'CODE_DISTRICT': 533, 'district': 'Amboasary Atsimo', 'CODE_REGION': 53, 'Mois': 7, 'Année': 2021, 'IRA': 121.0, 'Diarrhée': 361.0, 'Palu': 3184.0}, {'CODE_DISTRICT': 533, 'district': 'Amboasary Atsimo', 'CODE_REGION': 53, 'Mois': 8, 'Année': 2021, 'IRA': 180.0, 'Diarrhée': 526.0, 'Palu': 4300.0}  ... displaying 10 of 792 total bound parameter sets ...  {'CODE_DISTRICT': 515, 'district': 'Sakaraha', 'CODE_REGION': 51, 'Mois': 11, 'Année': 2023, 'IRA': None, 'Diarrhée': None, 'Palu': None}, {'CODE_DISTRICT': 515, 'district': 'Sakaraha', 'CODE_REGION': 51, 'Mois': 12, 'Année': 2023, 'IRA': None, 'Diarrhée': None, 'Palu': None}]\n",
      "2025-03-11 13:37:20,364 INFO sqlalchemy.engine.Engine COMMIT\n"
     ]
    },
    {
     "data": {
      "text/plain": [
       "792"
      ]
     },
     "execution_count": 15,
     "metadata": {},
     "output_type": "execute_result"
    }
   ],
   "source": [
    "import pandas as pd\n",
    "from sqlalchemy import create_engine, text\n",
    "\n",
    "# 1. Lire les fichiers Excel\n",
    "# Remplacer 'fichier1.xlsx' et 'fichier2.xlsx' par vos noms de fichiers réels.\n",
    "df1 = pd.read_excel('Datasets/Maladies_Couv_Sante.xlsx')  # Colonnes: index, district, code_region, maladie\n",
    "df2 = pd.read_excel('Datasets/REGION.xlsx')  # Colonnes: index, code, nom_region\n",
    "\n",
    "# Optionnel : renommer les colonnes si besoin pour éviter les conflits avec des noms réservés\n",
    "df1 = df1.rename(columns={\"index\": \"id_Maladie\"})\n",
    "df2 = df2.rename(columns={\"index\": \"id_Region\"})\n",
    "\n",
    "\n",
    "\n",
    "# 4. Charger les données dans les tables\n",
    "# On insère d'abord les données de la table 'region' (fichier 2)\n",
    "df2.to_sql('region', engine, if_exists='replace', index=False)\n",
    "\n",
    "# Puis on insère les données de la table 'maladie' (fichier 1)\n",
    "# On garde les colonnes pertinentes et on s'assure que la colonne 'code_region' correspond bien\n",
    "df1.to_sql('maladie', engine, if_exists='append', index=False)\n"
   ]
  },
  {
   "cell_type": "code",
   "execution_count": 16,
   "metadata": {},
   "outputs": [
    {
     "name": "stdout",
     "output_type": "stream",
     "text": [
      "2025-03-11 13:37:20,476 INFO sqlalchemy.engine.Engine BEGIN (implicit)\n",
      "2025-03-11 13:37:20,478 INFO sqlalchemy.engine.Engine DESCRIBE `unicef_db`.`\n",
      "SELECT *\n",
      "FROM maladie m\n",
      "JOIN region r ON m.CODE_REGION = r.CODE_REGION\n",
      "`\n",
      "2025-03-11 13:37:20,480 INFO sqlalchemy.engine.Engine [raw sql] {}\n",
      "2025-03-11 13:37:20,491 INFO sqlalchemy.engine.Engine \n",
      "SELECT *\n",
      "FROM maladie m\n",
      "JOIN region r ON m.CODE_REGION = r.CODE_REGION\n",
      "\n",
      "2025-03-11 13:37:20,492 INFO sqlalchemy.engine.Engine [raw sql] {}\n",
      "2025-03-11 13:37:20,979 INFO sqlalchemy.engine.Engine ROLLBACK\n"
     ]
    }
   ],
   "source": [
    "query = \"\"\"\n",
    "SELECT *\n",
    "FROM maladie m\n",
    "JOIN region r ON m.CODE_REGION = r.CODE_REGION\n",
    "\"\"\"\n",
    "df_maladie = pd.read_sql(query, engine)"
   ]
  },
  {
   "cell_type": "code",
   "execution_count": 17,
   "metadata": {},
   "outputs": [
    {
     "data": {
      "text/html": [
       "<div>\n",
       "<style scoped>\n",
       "    .dataframe tbody tr th:only-of-type {\n",
       "        vertical-align: middle;\n",
       "    }\n",
       "\n",
       "    .dataframe tbody tr th {\n",
       "        vertical-align: top;\n",
       "    }\n",
       "\n",
       "    .dataframe thead th {\n",
       "        text-align: right;\n",
       "    }\n",
       "</style>\n",
       "<table border=\"1\" class=\"dataframe\">\n",
       "  <thead>\n",
       "    <tr style=\"text-align: right;\">\n",
       "      <th></th>\n",
       "      <th>index</th>\n",
       "      <th>CODE_DISTRICT</th>\n",
       "      <th>district</th>\n",
       "      <th>CODE_REGION</th>\n",
       "      <th>Mois</th>\n",
       "      <th>Année</th>\n",
       "      <th>IRA</th>\n",
       "      <th>Diarrhée</th>\n",
       "      <th>Palu</th>\n",
       "      <th>CODE_REGION</th>\n",
       "      <th>LIBELLE_REGION</th>\n",
       "    </tr>\n",
       "  </thead>\n",
       "  <tbody>\n",
       "    <tr>\n",
       "      <th>0</th>\n",
       "      <td>0.0</td>\n",
       "      <td>533</td>\n",
       "      <td>Amboasary Atsimo</td>\n",
       "      <td>53</td>\n",
       "      <td>1</td>\n",
       "      <td>2021</td>\n",
       "      <td>333.0</td>\n",
       "      <td>1363.0</td>\n",
       "      <td>3262.0</td>\n",
       "      <td>53</td>\n",
       "      <td>ANOSY</td>\n",
       "    </tr>\n",
       "    <tr>\n",
       "      <th>1</th>\n",
       "      <td>1.0</td>\n",
       "      <td>533</td>\n",
       "      <td>Amboasary Atsimo</td>\n",
       "      <td>53</td>\n",
       "      <td>2</td>\n",
       "      <td>2021</td>\n",
       "      <td>153.0</td>\n",
       "      <td>1046.0</td>\n",
       "      <td>2487.0</td>\n",
       "      <td>53</td>\n",
       "      <td>ANOSY</td>\n",
       "    </tr>\n",
       "    <tr>\n",
       "      <th>2</th>\n",
       "      <td>2.0</td>\n",
       "      <td>533</td>\n",
       "      <td>Amboasary Atsimo</td>\n",
       "      <td>53</td>\n",
       "      <td>3</td>\n",
       "      <td>2021</td>\n",
       "      <td>343.0</td>\n",
       "      <td>1082.0</td>\n",
       "      <td>4324.0</td>\n",
       "      <td>53</td>\n",
       "      <td>ANOSY</td>\n",
       "    </tr>\n",
       "    <tr>\n",
       "      <th>3</th>\n",
       "      <td>3.0</td>\n",
       "      <td>533</td>\n",
       "      <td>Amboasary Atsimo</td>\n",
       "      <td>53</td>\n",
       "      <td>4</td>\n",
       "      <td>2021</td>\n",
       "      <td>156.0</td>\n",
       "      <td>788.0</td>\n",
       "      <td>4218.0</td>\n",
       "      <td>53</td>\n",
       "      <td>ANOSY</td>\n",
       "    </tr>\n",
       "    <tr>\n",
       "      <th>4</th>\n",
       "      <td>4.0</td>\n",
       "      <td>533</td>\n",
       "      <td>Amboasary Atsimo</td>\n",
       "      <td>53</td>\n",
       "      <td>5</td>\n",
       "      <td>2021</td>\n",
       "      <td>160.0</td>\n",
       "      <td>547.0</td>\n",
       "      <td>6255.0</td>\n",
       "      <td>53</td>\n",
       "      <td>ANOSY</td>\n",
       "    </tr>\n",
       "    <tr>\n",
       "      <th>...</th>\n",
       "      <td>...</td>\n",
       "      <td>...</td>\n",
       "      <td>...</td>\n",
       "      <td>...</td>\n",
       "      <td>...</td>\n",
       "      <td>...</td>\n",
       "      <td>...</td>\n",
       "      <td>...</td>\n",
       "      <td>...</td>\n",
       "      <td>...</td>\n",
       "      <td>...</td>\n",
       "    </tr>\n",
       "    <tr>\n",
       "      <th>3955</th>\n",
       "      <td>NaN</td>\n",
       "      <td>515</td>\n",
       "      <td>Sakaraha</td>\n",
       "      <td>51</td>\n",
       "      <td>8</td>\n",
       "      <td>2023</td>\n",
       "      <td>116.0</td>\n",
       "      <td>211.0</td>\n",
       "      <td>2573.0</td>\n",
       "      <td>51</td>\n",
       "      <td>ATSIMO ANDREFANA</td>\n",
       "    </tr>\n",
       "    <tr>\n",
       "      <th>3956</th>\n",
       "      <td>NaN</td>\n",
       "      <td>515</td>\n",
       "      <td>Sakaraha</td>\n",
       "      <td>51</td>\n",
       "      <td>9</td>\n",
       "      <td>2023</td>\n",
       "      <td>214.0</td>\n",
       "      <td>229.0</td>\n",
       "      <td>2774.0</td>\n",
       "      <td>51</td>\n",
       "      <td>ATSIMO ANDREFANA</td>\n",
       "    </tr>\n",
       "    <tr>\n",
       "      <th>3957</th>\n",
       "      <td>NaN</td>\n",
       "      <td>515</td>\n",
       "      <td>Sakaraha</td>\n",
       "      <td>51</td>\n",
       "      <td>10</td>\n",
       "      <td>2023</td>\n",
       "      <td>116.0</td>\n",
       "      <td>314.0</td>\n",
       "      <td>3182.0</td>\n",
       "      <td>51</td>\n",
       "      <td>ATSIMO ANDREFANA</td>\n",
       "    </tr>\n",
       "    <tr>\n",
       "      <th>3958</th>\n",
       "      <td>NaN</td>\n",
       "      <td>515</td>\n",
       "      <td>Sakaraha</td>\n",
       "      <td>51</td>\n",
       "      <td>11</td>\n",
       "      <td>2023</td>\n",
       "      <td>NaN</td>\n",
       "      <td>NaN</td>\n",
       "      <td>NaN</td>\n",
       "      <td>51</td>\n",
       "      <td>ATSIMO ANDREFANA</td>\n",
       "    </tr>\n",
       "    <tr>\n",
       "      <th>3959</th>\n",
       "      <td>NaN</td>\n",
       "      <td>515</td>\n",
       "      <td>Sakaraha</td>\n",
       "      <td>51</td>\n",
       "      <td>12</td>\n",
       "      <td>2023</td>\n",
       "      <td>NaN</td>\n",
       "      <td>NaN</td>\n",
       "      <td>NaN</td>\n",
       "      <td>51</td>\n",
       "      <td>ATSIMO ANDREFANA</td>\n",
       "    </tr>\n",
       "  </tbody>\n",
       "</table>\n",
       "<p>3960 rows × 11 columns</p>\n",
       "</div>"
      ],
      "text/plain": [
       "      index  CODE_DISTRICT          district  CODE_REGION  Mois  Année    IRA  \\\n",
       "0       0.0            533  Amboasary Atsimo           53     1   2021  333.0   \n",
       "1       1.0            533  Amboasary Atsimo           53     2   2021  153.0   \n",
       "2       2.0            533  Amboasary Atsimo           53     3   2021  343.0   \n",
       "3       3.0            533  Amboasary Atsimo           53     4   2021  156.0   \n",
       "4       4.0            533  Amboasary Atsimo           53     5   2021  160.0   \n",
       "...     ...            ...               ...          ...   ...    ...    ...   \n",
       "3955    NaN            515          Sakaraha           51     8   2023  116.0   \n",
       "3956    NaN            515          Sakaraha           51     9   2023  214.0   \n",
       "3957    NaN            515          Sakaraha           51    10   2023  116.0   \n",
       "3958    NaN            515          Sakaraha           51    11   2023    NaN   \n",
       "3959    NaN            515          Sakaraha           51    12   2023    NaN   \n",
       "\n",
       "      Diarrhée    Palu  CODE_REGION    LIBELLE_REGION  \n",
       "0       1363.0  3262.0           53             ANOSY  \n",
       "1       1046.0  2487.0           53             ANOSY  \n",
       "2       1082.0  4324.0           53             ANOSY  \n",
       "3        788.0  4218.0           53             ANOSY  \n",
       "4        547.0  6255.0           53             ANOSY  \n",
       "...        ...     ...          ...               ...  \n",
       "3955     211.0  2573.0           51  ATSIMO ANDREFANA  \n",
       "3956     229.0  2774.0           51  ATSIMO ANDREFANA  \n",
       "3957     314.0  3182.0           51  ATSIMO ANDREFANA  \n",
       "3958       NaN     NaN           51  ATSIMO ANDREFANA  \n",
       "3959       NaN     NaN           51  ATSIMO ANDREFANA  \n",
       "\n",
       "[3960 rows x 11 columns]"
      ]
     },
     "execution_count": 17,
     "metadata": {},
     "output_type": "execute_result"
    }
   ],
   "source": [
    "df_maladie"
   ]
  },
  {
   "cell_type": "code",
   "execution_count": 32,
   "metadata": {},
   "outputs": [
    {
     "data": {
      "text/html": [
       "<div>\n",
       "<style scoped>\n",
       "    .dataframe tbody tr th:only-of-type {\n",
       "        vertical-align: middle;\n",
       "    }\n",
       "\n",
       "    .dataframe tbody tr th {\n",
       "        vertical-align: top;\n",
       "    }\n",
       "\n",
       "    .dataframe thead th {\n",
       "        text-align: right;\n",
       "    }\n",
       "</style>\n",
       "<table border=\"1\" class=\"dataframe\">\n",
       "  <thead>\n",
       "    <tr style=\"text-align: right;\">\n",
       "      <th></th>\n",
       "      <th>IRA</th>\n",
       "      <th>Palu</th>\n",
       "      <th>Diarrhée</th>\n",
       "    </tr>\n",
       "    <tr>\n",
       "      <th>Année</th>\n",
       "      <th></th>\n",
       "      <th></th>\n",
       "      <th></th>\n",
       "    </tr>\n",
       "  </thead>\n",
       "  <tbody>\n",
       "    <tr>\n",
       "      <th>2021</th>\n",
       "      <td>693720.0</td>\n",
       "      <td>4468330.0</td>\n",
       "      <td>580485.0</td>\n",
       "    </tr>\n",
       "    <tr>\n",
       "      <th>2022</th>\n",
       "      <td>798075.0</td>\n",
       "      <td>3595300.0</td>\n",
       "      <td>619805.0</td>\n",
       "    </tr>\n",
       "    <tr>\n",
       "      <th>2023</th>\n",
       "      <td>751040.0</td>\n",
       "      <td>9177900.0</td>\n",
       "      <td>561895.0</td>\n",
       "    </tr>\n",
       "  </tbody>\n",
       "</table>\n",
       "</div>"
      ],
      "text/plain": [
       "            IRA       Palu  Diarrhée\n",
       "Année                               \n",
       "2021   693720.0  4468330.0  580485.0\n",
       "2022   798075.0  3595300.0  619805.0\n",
       "2023   751040.0  9177900.0  561895.0"
      ]
     },
     "execution_count": 32,
     "metadata": {},
     "output_type": "execute_result"
    }
   ],
   "source": [
    "anne_mal =   df_maladie.groupby(\"Année\")[[\"IRA\", \"Palu\", \"Diarrhée\"]].sum()\n",
    "anne_mal"
   ]
  },
  {
   "cell_type": "code",
   "execution_count": 33,
   "metadata": {},
   "outputs": [
    {
     "data": {
      "text/plain": [
       "[[693720.0, 4468330.0, 580485.0],\n",
       " [798075.0, 3595300.0, 619805.0],\n",
       " [751040.0, 9177900.0, 561895.0]]"
      ]
     },
     "execution_count": 33,
     "metadata": {},
     "output_type": "execute_result"
    }
   ],
   "source": [
    "anne_mal.values.tolist()"
   ]
  },
  {
   "cell_type": "code",
   "execution_count": 34,
   "metadata": {},
   "outputs": [
    {
     "data": {
      "text/plain": [
       "[2021, 2022, 2023]"
      ]
     },
     "execution_count": 34,
     "metadata": {},
     "output_type": "execute_result"
    }
   ],
   "source": [
    "anne_mal.index.tolist()"
   ]
  },
  {
   "cell_type": "code",
   "execution_count": null,
   "metadata": {},
   "outputs": [],
   "source": []
  },
  {
   "cell_type": "code",
   "execution_count": 55,
   "metadata": {},
   "outputs": [],
   "source": [
    "df_filtered = df_maladie[df_maladie[\"Année\"] == 2022]"
   ]
  },
  {
   "cell_type": "code",
   "execution_count": 56,
   "metadata": {},
   "outputs": [],
   "source": [
    "result = df_filtered.groupby(\"LIBELLE_REGION\")[[\"IRA\", \"Diarrhée\", \"Palu\"]].sum().reset_index()"
   ]
  },
  {
   "cell_type": "code",
   "execution_count": 59,
   "metadata": {},
   "outputs": [
    {
     "name": "stdout",
     "output_type": "stream",
     "text": [
      "{'IRA': 798075.0, 'Palu': 3595300.0, 'Diarrhée': 619805.0}\n"
     ]
    }
   ],
   "source": [
    "total = []\n",
    "maladie = [\"IRA\", \"Palu\", \"Diarrhée\"]\n",
    "\n",
    "for val in maladie:\n",
    "    som = df_filtered[val].sum()\n",
    "    total.append(som)    \n",
    "\n",
    "generale_annee = {key: value for key, value in zip(maladie, total)}\n",
    "\n",
    "print(generale_annee)"
   ]
  },
  {
   "cell_type": "code",
   "execution_count": 57,
   "metadata": {},
   "outputs": [
    {
     "data": {
      "text/plain": [
       "[{'LIBELLE_REGION': 'ANDROY',\n",
       "  'IRA': 65660.0,\n",
       "  'Diarrhée': 81815.0,\n",
       "  'Palu': 47670.0},\n",
       " {'LIBELLE_REGION': 'ANOSY',\n",
       "  'IRA': 139340.0,\n",
       "  'Diarrhée': 107840.0,\n",
       "  'Palu': 830395.0},\n",
       " {'LIBELLE_REGION': 'ATSIMO ANDREFANA',\n",
       "  'IRA': 106745.0,\n",
       "  'Diarrhée': 73890.0,\n",
       "  'Palu': 287255.0},\n",
       " {'LIBELLE_REGION': 'ATSIMO ATSINANANA',\n",
       "  'IRA': 255550.0,\n",
       "  'Diarrhée': 213125.0,\n",
       "  'Palu': 1588370.0},\n",
       " {'LIBELLE_REGION': 'FITOVINANY',\n",
       "  'IRA': 93790.0,\n",
       "  'Diarrhée': 55380.0,\n",
       "  'Palu': 403595.0},\n",
       " {'LIBELLE_REGION': 'VATOVAVY ',\n",
       "  'IRA': 136990.0,\n",
       "  'Diarrhée': 87755.0,\n",
       "  'Palu': 438015.0}]"
      ]
     },
     "execution_count": 57,
     "metadata": {},
     "output_type": "execute_result"
    }
   ],
   "source": [
    "result.to_dict(orient=\"records\")"
   ]
  },
  {
   "cell_type": "code",
   "execution_count": null,
   "metadata": {},
   "outputs": [],
   "source": []
  }
 ],
 "metadata": {
  "kernelspec": {
   "display_name": "Python 3",
   "language": "python",
   "name": "python3"
  },
  "language_info": {
   "codemirror_mode": {
    "name": "ipython",
    "version": 3
   },
   "file_extension": ".py",
   "mimetype": "text/x-python",
   "name": "python",
   "nbconvert_exporter": "python",
   "pygments_lexer": "ipython3",
   "version": "3.10.4"
  }
 },
 "nbformat": 4,
 "nbformat_minor": 2
}
